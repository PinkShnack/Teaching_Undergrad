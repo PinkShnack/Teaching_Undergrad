{
 "cells": [
  {
   "cell_type": "markdown",
   "metadata": {},
   "source": [
    "## Tutorial 1 Question 2.4\n",
    "\n",
    "Here we can easily visualise the question with some simple python code."
   ]
  },
  {
   "cell_type": "markdown",
   "metadata": {},
   "source": [
    "First, we import our plotting and mathematics tools"
   ]
  },
  {
   "cell_type": "code",
   "execution_count": 14,
   "metadata": {},
   "outputs": [],
   "source": [
    "import matplotlib.pyplot as plt\n",
    "import numpy as np\n",
    "from numpy import pi\n",
    "%matplotlib qt\n",
    "# or use qt for external plotting\n",
    "# %matplotlib qt\n"
   ]
  },
  {
   "cell_type": "markdown",
   "metadata": {},
   "source": [
    "Then, we write out the x and y values for our plot."
   ]
  },
  {
   "cell_type": "code",
   "execution_count": 15,
   "metadata": {},
   "outputs": [],
   "source": [
    "theta = np.array([-pi/2, -pi/4, 0, pi/4, pi/2])\n"
   ]
  },
  {
   "cell_type": "code",
   "execution_count": 17,
   "metadata": {},
   "outputs": [],
   "source": [
    "# plot sin\n",
    "\n",
    "plt.figure()\n",
    "plt.scatter(theta, np.sin(theta))\n",
    "plt.show()\n"
   ]
  },
  {
   "cell_type": "code",
   "execution_count": 18,
   "metadata": {},
   "outputs": [],
   "source": [
    "# sin and cos\n",
    "\n",
    "plt.figure()\n",
    "plt.scatter(theta, np.sin(theta))\n",
    "plt.scatter(theta, np.cos(theta))\n",
    "plt.show()\n"
   ]
  },
  {
   "cell_type": "markdown",
   "metadata": {},
   "source": [
    "It would be best for us to have many points along the line!"
   ]
  },
  {
   "cell_type": "code",
   "execution_count": null,
   "metadata": {},
   "outputs": [],
   "source": [
    "theta_steps = np.arange(theta[0], theta[-1], theta[-1]/100)\n",
    "# theta[0] finds the first value of the array \"theta\" created above. [-1] find the last value."
   ]
  },
  {
   "cell_type": "code",
   "execution_count": 20,
   "metadata": {},
   "outputs": [],
   "source": [
    "# line plot\n",
    "\n",
    "plt.figure()\n",
    "plt.plot(theta_steps, np.sin(theta_steps))\n",
    "plt.plot(theta_steps, np.cos(theta_steps))\n",
    "plt.show()\n"
   ]
  },
  {
   "cell_type": "code",
   "execution_count": 29,
   "metadata": {},
   "outputs": [],
   "source": [
    "# line plots\n",
    "\n",
    "plt.figure()\n",
    "plt.plot(theta_steps, np.sin(theta_steps), label='sin()')\n",
    "plt.plot(theta_steps, np.cos(theta_steps), label='cos()')\n",
    "plt.plot(theta_steps, np.sin(theta_steps-(pi/4)), label='sin(-pi/4)')\n",
    "plt.plot(theta_steps, np.sin(theta_steps-(pi/2)), label='sin(-pi/2)')\n",
    "plt.plot(theta_steps, np.sin(theta_steps-((3*pi)/4)), label='sin(-3pi/4)')\n",
    "plt.legend()\n",
    "plt.show()\n"
   ]
  },
  {
   "cell_type": "code",
   "execution_count": 21,
   "metadata": {},
   "outputs": [],
   "source": [
    "# lots of thetas\n",
    "\n",
    "theta_steps = np.arange(0, 5*pi, 5*pi/1000)\n",
    "plt.figure()\n",
    "plt.plot(theta_steps, np.sin(theta_steps))\n",
    "plt.plot(theta_steps, np.cos(theta_steps))\n",
    "plt.plot(theta_steps, np.sin(theta_steps-(pi/4)))\n",
    "plt.plot(theta_steps, np.sin(theta_steps-(pi/2)))\n",
    "plt.plot(theta_steps, np.sin(theta_steps-((3*pi)/4)))\n",
    "plt.show()\n"
   ]
  },
  {
   "cell_type": "code",
   "execution_count": null,
   "metadata": {},
   "outputs": [],
   "source": []
  }
 ],
 "metadata": {
  "file_extension": ".py",
  "kernelspec": {
   "display_name": "Python 3",
   "language": "python",
   "name": "python3"
  },
  "language_info": {
   "codemirror_mode": {
    "name": "ipython",
    "version": 3
   },
   "file_extension": ".py",
   "mimetype": "text/x-python",
   "name": "python",
   "nbconvert_exporter": "python",
   "pygments_lexer": "ipython3",
   "version": "3.7.0"
  },
  "mimetype": "text/x-python",
  "name": "python",
  "npconvert_exporter": "python",
  "pygments_lexer": "ipython3",
  "version": 3
 },
 "nbformat": 4,
 "nbformat_minor": 2
}
